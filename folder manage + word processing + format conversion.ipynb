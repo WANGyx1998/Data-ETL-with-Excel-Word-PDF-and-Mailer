{
 "cells": [
  {
   "cell_type": "code",
   "execution_count": 2,
   "metadata": {},
   "outputs": [],
   "source": [
    "import pandas as pd\n",
    "import numpy as np\n",
    "# need pip install below packages\n",
    "from docxtpl import DocxTemplate\n",
    "from docx2pdf import convert\n",
    "import os\n",
    "import shutil"
   ]
  },
  {
   "cell_type": "code",
   "execution_count": 26,
   "metadata": {},
   "outputs": [],
   "source": [
    "rootfold=''\n",
    "wordfold=r'output(2)//'\n",
    "pdffold=r'output(2)//'\n",
    "zipfold=r'output(2)//'\n",
    "emailfold=r'output(2)//'"
   ]
  },
  {
   "cell_type": "markdown",
   "metadata": {},
   "source": [
    "# CREATE FOLDERS"
   ]
  },
  {
   "cell_type": "code",
   "execution_count": 32,
   "metadata": {},
   "outputs": [],
   "source": [
    "chieflist = pd.read_excel(rootfold+\"Master data.xlsx\",sheet_name='chief list')\n",
    "# removevspaces \n",
    "chieflistdf = chieflist.applymap(lambda x: x.rstrip() if isinstance(x, str) else x)\n",
    "supervisor = chieflistdf['name'].tolist()"
   ]
  },
  {
   "cell_type": "code",
   "execution_count": 33,
   "metadata": {},
   "outputs": [
    {
     "name": "stdout",
     "output_type": "stream",
     "text": [
      "Completed.\n"
     ]
    }
   ],
   "source": [
    "root_path=wordfold\n",
    "\n",
    "# create folders for each supervisor\n",
    "for folder_name in supervisor:\n",
    "    # Folder path\n",
    "    folder_path = os.path.join(root_path, folder_name)\n",
    "    if os.path.exists(folder_path):\n",
    "        shutil.rmtree(folder_path)  # delete content if folder exsist\n",
    "        \n",
    "    os.makedirs(folder_path)\n",
    "\n",
    "print('Completed.')"
   ]
  },
  {
   "cell_type": "markdown",
   "metadata": {},
   "source": [
    "# GENERATE LETTERS"
   ]
  },
  {
   "cell_type": "code",
   "execution_count": 34,
   "metadata": {},
   "outputs": [
    {
     "name": "stdout",
     "output_type": "stream",
     "text": [
      "\n",
      "Completed.\n"
     ]
    }
   ],
   "source": [
    "df=pd.read_excel(rootfold+\"Master data.xlsx\",sheet_name='Sheet1')\n",
    "df = df[df['CY Incentive'].notna()]\n",
    "doc=DocxTemplate(rootfold+\"Word Template.docx\")\n",
    "\n",
    "for i, data in df.iterrows():\n",
    "    firstname=data['Name'].split()[0]\n",
    "    fullname=data[\"Name\"].rstrip()\n",
    "    amount=f\"{round(data['CY Incentive']):,}\"\n",
    "    cheifname=data[\"Supervisor\"].rstrip()\n",
    "    cheif=data[\"Supervisor\"].rstrip()\n",
    "    context={\"Name\":firstname,\"amount\":amount,\"Chief\":cheif}\n",
    "    filename=str(fullname)+\"_2024 Incentive Statement\"+\".docx\"\n",
    "    filepath=wordfold+str(cheifname)+\"//\"+filename\n",
    "\n",
    "    doc.render(context)\n",
    "    doc.save(filepath)\n",
    "        \n",
    "print('Completed.')"
   ]
  },
  {
   "cell_type": "markdown",
   "metadata": {},
   "source": [
    "# CONVERT TO PDF"
   ]
  },
  {
   "cell_type": "code",
   "execution_count": null,
   "metadata": {},
   "outputs": [],
   "source": [
    "for name in supervisor:\n",
    "    convert(wordfold+name+\".docx\", pdffold+name+\".pdf\")\n",
    "    print(name)"
   ]
  },
  {
   "cell_type": "markdown",
   "metadata": {},
   "source": [
    "# ZIP FOLDERS"
   ]
  },
  {
   "cell_type": "code",
   "execution_count": 37,
   "metadata": {},
   "outputs": [
    {
     "name": "stdout",
     "output_type": "stream",
     "text": [
      "Completed.\n"
     ]
    }
   ],
   "source": [
    "for name in supervisor:\n",
    "    shutil.make_archive(zipfold+name, 'zip', pdffold+name)\n",
    "\n",
    "print('Completed.')"
   ]
  }
 ],
 "metadata": {
  "kernelspec": {
   "display_name": "Python 3",
   "language": "python",
   "name": "python3"
  },
  "language_info": {
   "codemirror_mode": {
    "name": "ipython",
    "version": 3
   },
   "file_extension": ".py",
   "mimetype": "text/x-python",
   "name": "python",
   "nbconvert_exporter": "python",
   "pygments_lexer": "ipython3",
   "version": "3.8.5"
  }
 },
 "nbformat": 4,
 "nbformat_minor": 5
}
